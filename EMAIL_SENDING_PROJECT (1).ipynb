{
  "nbformat": 4,
  "nbformat_minor": 0,
  "metadata": {
    "kernelspec": {
      "display_name": "Python 3",
      "language": "python",
      "name": "python3"
    },
    "language_info": {
      "codemirror_mode": {
        "name": "ipython",
        "version": 3
      },
      "file_extension": ".py",
      "mimetype": "text/x-python",
      "name": "python",
      "nbconvert_exporter": "python",
      "pygments_lexer": "ipython3",
      "version": "3.7.4"
    },
    "colab": {
      "name": "EMAIL_SENDING_PROJECT.ipynb",
      "provenance": [],
      "collapsed_sections": []
    }
  },
  "cells": [
    {
      "cell_type": "markdown",
      "metadata": {
        "id": "490Z470BMSgY"
      },
      "source": [
        "# Project 2"
      ]
    },
    {
      "cell_type": "code",
      "metadata": {
        "id": "kbFiuMQrMSga"
      },
      "source": [
        "import emails"
      ],
      "execution_count": null,
      "outputs": []
    },
    {
      "cell_type": "code",
      "metadata": {
        "id": "Y-uJtNPDMSga"
      },
      "source": [
        "html_text = '''<p><span style=\"font-family: Courier New, courier;\"><span style=\"background-color: rgb(247, 218, 100);\">HEY Rowdy,</span>&nbsp;</span></p>\n",
        "<p><span style=\"font-family: Courier New, courier;\"><br></span></p>\n",
        "<p><span style=\"font-family: Courier New, courier;\">How are you this is SAIKIRAN FROM LEtsUpgrade,&nbsp;</span></p>\n",
        "<p><span style=\"font-family: Courier New, courier;\">Cheif Rowdy at LU !!</span></p>\n",
        "<p><span style=\"font-family: Courier New, courier;\">Love teaching you all, hope you like this project&nbsp;</span></p>\n",
        "<p><span style=\"font-family: Courier New, courier;\"><br></span></p>\n",
        "<p><span style=\"font-family: Courier New, courier;\">Regards,&nbsp;</span></p>\n",
        "<p><strong><span style=\"font-family: Courier New, courier;\">Cheif Rowdy,</span></strong></p>\n",
        "<p><span style=\"font-family: Courier New, courier;\"><strong>Saikiran Sondarkar</strong></span></p>'''\n",
        "\n",
        "\n",
        "message = emails.html(html=html_text,\n",
        "                          subject=\"Your EMAIL FROM PYTHON SCRIPT\",\n",
        "                          mail_from=('hey raju', 'raj@xyz.com'))\n"
      ],
      "execution_count": null,
      "outputs": []
    },
    {
      "cell_type": "code",
      "metadata": {
        "id": "wvaiZmZOMSgc"
      },
      "source": [
        "mail_via_python = message.send(to='mmuniraju@gmail.com', \n",
        "                               smtp={'host': 'smtp.gmail.com', \n",
        "                                     'timeout': 5,\n",
        "                                    'port':587,\n",
        "                                    'user':'YOUREMAIL@REQUIRED>COM',\n",
        "                                    'password':'YourPassWordREquired',\n",
        "                                    'tls':True})\n"
      ],
      "execution_count": null,
      "outputs": []
    },
    {
      "cell_type": "code",
      "metadata": {
        "id": "Nel3_bH2MSgd",
        "outputId": "a2635946-360e-404c-b4fb-7ffbb106a0ff"
      },
      "source": [
        "mail_via_python"
      ],
      "execution_count": null,
      "outputs": [
        {
          "output_type": "execute_result",
          "data": {
            "text/plain": [
              "<emails.backend.SMTPResponse status_code=250 status_text=b'2.0.0 OK  1608044869 b13sm8637671pfi.162 - gsmtp'>"
            ]
          },
          "metadata": {
            "tags": []
          },
          "execution_count": 39
        }
      ]
    },
    {
      "cell_type": "code",
      "metadata": {
        "id": "z8RGl4amMSge"
      },
      "source": [
        "def sendMail(email, name):\n",
        "    \n",
        "    html_text = '''<p><span style=\"font-family: Courier New, courier;\"><span style=\"background-color: rgb(247, 218, 100);\">HEY Rowdy,'''+ name+'''</span>&nbsp;</span></p>\n",
        "                <p><span style=\"font-family: Courier New, courier;\"><br></span></p>\n",
        "                <p><span style=\"font-family: Courier New, courier;\">How are you this is RAJU FROM Upgrade,&nbsp;</span></p>\n",
        "                <p><span style=\"font-family: Courier New, courier;\">Cheif Rowdy at LU !!</span></p>\n",
        "                <p><span style=\"font-family: Courier New, courier;\">Love teaching you all, hope you like this project&nbsp;</span></p>\n",
        "                <p><span style=\"font-family: Courier New, courier;\"><br></span></p>\n",
        "                <p><span style=\"font-family: Courier New, courier;\">Regards,&nbsp;</span></p>\n",
        "                <p><strong><span style=\"font-family: Courier New, courier;\">Cheif Rowdy,</span></strong></p>\n",
        "                <p><span style=\"font-family: Courier New, courier;\"><strong>Saikiran Sondarkar</strong></span></p>'''\n",
        "\n",
        "    subject = \"Hey Raju \"+ name + \", you have EMAIL FROM LetsUpgrade\"\n",
        "    message = emails.html(html=html_text,\n",
        "                          subject=subject,\n",
        "                          mail_from=('Raj at LetsUpgrade', 'raju@xyz.com'))\n",
        "\n",
        "    \n",
        "    mail_via_python = message.send(to=email, \n",
        "                               smtp={'host': 'smtp.gmail.com', \n",
        "                                     'timeout': 5,\n",
        "                                    'port':587,\n",
        "                                    'user':'YOUREMAIL@REQUIRED>COM',\n",
        "                                    'password':'YourPassWordREquired',\n",
        "                                    'tls':True})\n",
        "    return mail_via_python.status_code"
      ],
      "execution_count": null,
      "outputs": []
    },
    {
      "cell_type": "code",
      "metadata": {
        "id": "oaAh7TQZMSgg"
      },
      "source": [
        "sendMail(\"mmuniraju@gmail.com\",\"raju\")"
      ],
      "execution_count": null,
      "outputs": []
    },
    {
      "cell_type": "code",
      "metadata": {
        "id": "nefRy5_dMSgi"
      },
      "source": [
        ""
      ],
      "execution_count": null,
      "outputs": []
    }
  ]
}