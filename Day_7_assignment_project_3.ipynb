{
  "nbformat": 4,
  "nbformat_minor": 0,
  "metadata": {
    "colab": {
      "name": "Day-7 assignment project-3.ipynb",
      "provenance": []
    },
    "kernelspec": {
      "name": "python3",
      "display_name": "Python 3"
    }
  },
  "cells": [
    {
      "cell_type": "markdown",
      "metadata": {
        "id": "G-LQSNQFdlJB"
      },
      "source": [
        "# youtube video download using python"
      ]
    },
    {
      "cell_type": "code",
      "metadata": {
        "colab": {
          "base_uri": "https://localhost:8080/"
        },
        "id": "jcuV1Un2geRJ",
        "outputId": "af686191-55b8-4637-d3bc-7fc092bfc03e"
      },
      "source": [
        "!pip install pytube"
      ],
      "execution_count": 2,
      "outputs": [
        {
          "output_type": "stream",
          "text": [
            "Collecting pytube\n",
            "\u001b[?25l  Downloading https://files.pythonhosted.org/packages/63/2d/5b64e61f34d193b718aa39d322eddd7a17a3cc07f56a4b27b107ea234c02/pytube-10.0.0-py3-none-any.whl (40kB)\n",
            "\r\u001b[K     |████████                        | 10kB 13.4MB/s eta 0:00:01\r\u001b[K     |████████████████                | 20kB 12.2MB/s eta 0:00:01\r\u001b[K     |████████████████████████        | 30kB 7.9MB/s eta 0:00:01\r\u001b[K     |████████████████████████████████| 40kB 3.4MB/s \n",
            "\u001b[?25hRequirement already satisfied: typing-extensions in /usr/local/lib/python3.6/dist-packages (from pytube) (3.7.4.3)\n",
            "Installing collected packages: pytube\n",
            "Successfully installed pytube-10.0.0\n"
          ],
          "name": "stdout"
        }
      ]
    },
    {
      "cell_type": "code",
      "metadata": {
        "id": "nZTxNO9QdnXL"
      },
      "source": [
        "from pytube import YouTube\r\n",
        "import os\r\n",
        "from tkinter import *\r\n",
        "\r\n",
        "root=Tk()\r\n",
        "root.geometry('600x200')\r\n",
        "root.title('Youtube Video Downloader')\r\n",
        "\r\n",
        "\r\n",
        "Label_1=Label(root,text=\"Paste The Youtube Link Here\", font=(\"bold\",20))\r\n",
        "Label_1.place(x=120,y=20)\r\n",
        "\r\n",
        "\r\n",
        "mylink=StringVar()\r\n",
        "\r\n",
        "pastelink=Entry(root, width=60, textvariable=mylink)\r\n",
        "pastelink.place(x=140, y=80)\r\n",
        "\r\n",
        "#link=\"https://www.youtube.com/watch?v=0NV1KdWRHck\"\r\n",
        "\r\n",
        "def downloadVideo():\r\n",
        "    x=str(mylink.get())\r\n",
        "    ytvideo=YouTube(x).streams.filter(progressive=True, file_extension='mp4').order_by('resolution').desc().first()\r\n",
        "    if not os.path.exists('F:/letsupgrade'):\r\n",
        "        os.makedirs('F:/Letsupgrade')\r\n",
        "    ytvideo.download('F:/Letsupgrade') \r\n",
        "\r\n",
        "Button(root,text=\"Download Video\", width=20, bg='green',fg=\"white\", command=downloadVideo).place(x=220, y=110)\r\n",
        "\r\n",
        "root.mainloop()"
      ],
      "execution_count": null,
      "outputs": []
    }
  ]
}