{
  "nbformat": 4,
  "nbformat_minor": 0,
  "metadata": {
    "colab": {
      "name": "Day-4 Assignment.ipynb",
      "provenance": []
    },
    "kernelspec": {
      "name": "python3",
      "display_name": "Python 3"
    }
  },
  "cells": [
    {
      "cell_type": "markdown",
      "metadata": {
        "id": "QqL20YAttzxy"
      },
      "source": [
        "# Question-2\r\n",
        "Write a function which can return a Factorial of any numbers as INT, given in the argument."
      ]
    },
    {
      "cell_type": "code",
      "metadata": {
        "colab": {
          "base_uri": "https://localhost:8080/"
        },
        "id": "YgPI8v8Gt8Qc",
        "outputId": "b89a24fe-bb75-44f8-b8b4-d6f0aadc93df"
      },
      "source": [
        "def factorial(n): \r\n",
        "\tif n < 0: \r\n",
        "\t\treturn 0\r\n",
        "\telif n == 0 or n == 1: \r\n",
        "\t\treturn 1\r\n",
        "\telse: \r\n",
        "\t\tfact = 1\r\n",
        "\t\twhile(n > 1): \r\n",
        "\t\t\tfact *= n \r\n",
        "\t\t\tn -= 1\r\n",
        "\t\treturn fact \r\n",
        "num = 5; \r\n",
        "print(\"Factorial of\",num,\"is\", \r\n",
        "factorial(num)) \r\n"
      ],
      "execution_count": 7,
      "outputs": [
        {
          "output_type": "stream",
          "text": [
            "Factorial of 5 is 120\n"
          ],
          "name": "stdout"
        }
      ]
    },
    {
      "cell_type": "markdown",
      "metadata": {
        "id": "SiLfY2bruEYj"
      },
      "source": [
        "# Question-2\r\n",
        "Write down a program in Python for Opening a File and Writing \" I Love LetsUpgrade\" And close\r\n",
        "it, and read it back again, and then append some data to it and close it."
      ]
    },
    {
      "cell_type": "code",
      "metadata": {
        "colab": {
          "base_uri": "https://localhost:8080/"
        },
        "id": "G_B5s9biuK8I",
        "outputId": "4b6224d3-d80f-45c8-d4a4-a2325b67ebdc"
      },
      "source": [
        "file =open(\"E:\\Document\\lets.txt\", \"w\") \r\n",
        "print(\"name of the file\",f.name)\r\n",
        "file.write(\"i love letsupgrade\") \r\n",
        "file.close() "
      ],
      "execution_count": 20,
      "outputs": [
        {
          "output_type": "stream",
          "text": [
            "name of the file /content/sample_data/lets.txt\n"
          ],
          "name": "stdout"
        }
      ]
    },
    {
      "cell_type": "code",
      "metadata": {
        "colab": {
          "base_uri": "https://localhost:8080/"
        },
        "id": "v9ohE0ubymMl",
        "outputId": "9b13d259-d94d-4885-be51-7fe4f53b345b"
      },
      "source": [
        "file =open(\"E:\\Document\\lets.txt\", \"r\")\r\n",
        "print (file.read()) "
      ],
      "execution_count": 21,
      "outputs": [
        {
          "output_type": "stream",
          "text": [
            "i love letsupgrade\n"
          ],
          "name": "stdout"
        }
      ]
    }
  ]
}