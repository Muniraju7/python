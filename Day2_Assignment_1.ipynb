{
  "nbformat": 4,
  "nbformat_minor": 0,
  "metadata": {
    "colab": {
      "name": "Day2-Assignment-1.ipynb",
      "provenance": [],
      "collapsed_sections": []
    },
    "kernelspec": {
      "name": "python3",
      "display_name": "Python 3"
    }
  },
  "cells": [
    {
      "cell_type": "markdown",
      "metadata": {
        "id": "QOjYbFXCVjxk"
      },
      "source": [
        "Assignment-1\r\n",
        "\r\n"
      ]
    },
    {
      "cell_type": "markdown",
      "metadata": {
        "id": "tclIumLEb2Ad"
      },
      "source": [
        "capitalize() --> returns a string where the first character is upper case."
      ]
    },
    {
      "cell_type": "code",
      "metadata": {
        "colab": {
          "base_uri": "https://localhost:8080/"
        },
        "id": "82qdvugJVryh",
        "outputId": "89ea9538-4c0a-4173-8555-82c5d5ba4df8"
      },
      "source": [
        "txt=\"hello world\"\r\n",
        "x=txt.capitalize()\r\n",
        "print (x)"
      ],
      "execution_count": null,
      "outputs": [
        {
          "output_type": "stream",
          "text": [
            "Hello world\n"
          ],
          "name": "stdout"
        }
      ]
    },
    {
      "cell_type": "markdown",
      "metadata": {
        "id": "bRMk3cElWOmP"
      },
      "source": [
        "find()--> for a specified value and returns the position of where it was found"
      ]
    },
    {
      "cell_type": "code",
      "metadata": {
        "colab": {
          "base_uri": "https://localhost:8080/"
        },
        "id": "N7la_PVoWkbB",
        "outputId": "3402df40-386d-4026-b94b-2bdb0e47a13d"
      },
      "source": [
        "x=\"hey,hello world\"\r\n",
        "y=x.find(\"hey\")\r\n",
        "print (y)"
      ],
      "execution_count": null,
      "outputs": [
        {
          "output_type": "stream",
          "text": [
            "0\n"
          ],
          "name": "stdout"
        }
      ]
    },
    {
      "cell_type": "markdown",
      "metadata": {
        "id": "tSYB8_d7W-uJ"
      },
      "source": [
        "index()-->for a specified value and returns the position of where it was found"
      ]
    },
    {
      "cell_type": "code",
      "metadata": {
        "colab": {
          "base_uri": "https://localhost:8080/"
        },
        "id": "1fhtgvucXMze",
        "outputId": "94da276e-b49c-4733-cbeb-0db6b955b913"
      },
      "source": [
        "txt = \"Hello, welcome to my world.\"\r\n",
        "\r\n",
        "x = txt.index(\"welcome\")\r\n",
        "\r\n",
        "print(x)"
      ],
      "execution_count": null,
      "outputs": [
        {
          "output_type": "stream",
          "text": [
            "7\n"
          ],
          "name": "stdout"
        }
      ]
    },
    {
      "cell_type": "markdown",
      "metadata": {
        "id": "gkACaOZKXZ3d"
      },
      "source": [
        "isalnum()-->the string for a specified value and returns the position of where it was found"
      ]
    },
    {
      "cell_type": "code",
      "metadata": {
        "colab": {
          "base_uri": "https://localhost:8080/"
        },
        "id": "CO_dYaytXpGs",
        "outputId": "f3995bf4-866f-4948-b049-1e8d46cdd498"
      },
      "source": [
        "txt = \"Company12\"\r\n",
        "\r\n",
        "x = txt.isalnum()\r\n",
        "\r\n",
        "print(x)"
      ],
      "execution_count": null,
      "outputs": [
        {
          "output_type": "stream",
          "text": [
            "True\n"
          ],
          "name": "stdout"
        }
      ]
    },
    {
      "cell_type": "markdown",
      "metadata": {
        "id": "dyV8u8z6X3X8"
      },
      "source": [
        "lower()-->Returns True if all characters in the string are lower case"
      ]
    },
    {
      "cell_type": "code",
      "metadata": {
        "colab": {
          "base_uri": "https://localhost:8080/"
        },
        "id": "FsKofDYQX_9p",
        "outputId": "0ab9c4d7-3d9d-44cd-dcc7-b7a1b5c5a3d6"
      },
      "source": [
        "txt=\"hello world\"\r\n",
        "x=txt.islower()\r\n",
        "print (x)"
      ],
      "execution_count": null,
      "outputs": [
        {
          "output_type": "stream",
          "text": [
            "True\n"
          ],
          "name": "stdout"
        }
      ]
    },
    {
      "cell_type": "markdown",
      "metadata": {
        "id": "ojNlK-hAcCpt"
      },
      "source": [
        "Assignment-2"
      ]
    },
    {
      "cell_type": "markdown",
      "metadata": {
        "id": "Qns3X9SFcI_D"
      },
      "source": [
        "Append()"
      ]
    },
    {
      "cell_type": "code",
      "metadata": {
        "colab": {
          "base_uri": "https://localhost:8080/"
        },
        "id": "qBrIqbd_cRQf",
        "outputId": "45ec1b64-694b-4043-f650-b0d7dbc827eb"
      },
      "source": [
        "fruits = ['apple', 'banana', 'cherry']\r\n",
        "fruits.append(\"orange\")\r\n",
        "print(fruits)"
      ],
      "execution_count": 2,
      "outputs": [
        {
          "output_type": "stream",
          "text": [
            "['apple', 'banana', 'cherry', 'orange']\n"
          ],
          "name": "stdout"
        }
      ]
    },
    {
      "cell_type": "markdown",
      "metadata": {
        "id": "zDDaaJQ4cS2B"
      },
      "source": [
        "Clear()"
      ]
    },
    {
      "cell_type": "code",
      "metadata": {
        "id": "b1AWLXeycTzp"
      },
      "source": [
        "fruits = ['apple', 'banana', 'cherry', 'orange']\r\n",
        "\r\n",
        "fruits.clear()\r\n",
        "print(fruits)"
      ],
      "execution_count": null,
      "outputs": []
    },
    {
      "cell_type": "markdown",
      "metadata": {
        "id": "t1XzlhhIcWwP"
      },
      "source": [
        "count()"
      ]
    },
    {
      "cell_type": "code",
      "metadata": {
        "id": "S3TREG4TcXFh"
      },
      "source": [
        "fruits = ['apple', 'banana', 'cherry']\r\n",
        "\r\n",
        "x = fruits.count(\"cherry\")\r\n",
        "print(x)"
      ],
      "execution_count": null,
      "outputs": []
    },
    {
      "cell_type": "markdown",
      "metadata": {
        "id": "cNfW6yE3cbHt"
      },
      "source": [
        "extend()"
      ]
    },
    {
      "cell_type": "code",
      "metadata": {
        "colab": {
          "base_uri": "https://localhost:8080/"
        },
        "id": "9gXkMbgIccI_",
        "outputId": "82b18acb-fda1-44cf-d051-4bc569eca98a"
      },
      "source": [
        "fruits = ['apple', 'banana', 'cherry']\r\n",
        "\r\n",
        "cars = ['Ford', 'BMW', 'Volvo']\r\n",
        "\r\n",
        "fruits.extend(cars)\r\n",
        "print(fruits)"
      ],
      "execution_count": 4,
      "outputs": [
        {
          "output_type": "stream",
          "text": [
            "['apple', 'banana', 'cherry', 'Ford', 'BMW', 'Volvo']\n"
          ],
          "name": "stdout"
        }
      ]
    },
    {
      "cell_type": "markdown",
      "metadata": {
        "id": "Le54uR7GciL-"
      },
      "source": [
        "index"
      ]
    },
    {
      "cell_type": "code",
      "metadata": {
        "colab": {
          "base_uri": "https://localhost:8080/"
        },
        "id": "WFr6u2vGcikv",
        "outputId": "5f741233-d29c-4b8e-8e2b-d1ee122dd95a"
      },
      "source": [
        "fruits = ['apple', 'banana', 'cherry']\r\n",
        "\r\n",
        "x = fruits.index(\"cherry\")\r\n",
        "print(x)"
      ],
      "execution_count": 3,
      "outputs": [
        {
          "output_type": "stream",
          "text": [
            "2\n"
          ],
          "name": "stdout"
        }
      ]
    },
    {
      "cell_type": "markdown",
      "metadata": {
        "id": "vqCX-zaqc6-p"
      },
      "source": [
        "Assignment-3"
      ]
    },
    {
      "cell_type": "markdown",
      "metadata": {
        "id": "w3OQJdBZc95t"
      },
      "source": [
        "clear()"
      ]
    },
    {
      "cell_type": "code",
      "metadata": {
        "colab": {
          "base_uri": "https://localhost:8080/"
        },
        "id": "CYzDWfOpdF5o",
        "outputId": "8e1b00a3-f5e8-454a-8ee6-b8a6286f84e2"
      },
      "source": [
        "car = {\"brand\": \"Ford\",\"model\": \"Mustang\",\"year\": 1964}\r\n",
        "\r\n",
        "car.clear()\r\n",
        "\r\n",
        "print(car)\r\n"
      ],
      "execution_count": 5,
      "outputs": [
        {
          "output_type": "stream",
          "text": [
            "{}\n"
          ],
          "name": "stdout"
        }
      ]
    },
    {
      "cell_type": "markdown",
      "metadata": {
        "id": "aBcdocb8dJU5"
      },
      "source": [
        "Copy()"
      ]
    },
    {
      "cell_type": "code",
      "metadata": {
        "id": "FOX9_AEhdJrl"
      },
      "source": [
        "car = {\"brand\": \"Ford\",\"model\": \"Mustang\",\"year\": 1964}\r\n",
        "x=car.copy()\r\n",
        "print(x)"
      ],
      "execution_count": null,
      "outputs": []
    },
    {
      "cell_type": "markdown",
      "metadata": {
        "id": "aXKqUK8ydNF8"
      },
      "source": [
        "get()"
      ]
    },
    {
      "cell_type": "code",
      "metadata": {
        "id": "2ySzalfBdNVF"
      },
      "source": [
        "car = {\"brand\": \"Ford\",\"model\": \"Mustang\",\"year\": 1964}\r\n",
        "x = car.get(\"model\")\r\n",
        "\r\n",
        "print(x)"
      ],
      "execution_count": null,
      "outputs": []
    },
    {
      "cell_type": "markdown",
      "metadata": {
        "id": "SPzUqwOIdRM5"
      },
      "source": [
        "items()"
      ]
    },
    {
      "cell_type": "code",
      "metadata": {
        "id": "LumBnWKzdRjH"
      },
      "source": [
        "car = {\"brand\": \"Ford\",\"model\": \"Mustang\",\"year\": 1964}\r\n",
        "\r\n",
        "x = car.items()\r\n",
        "\r\n",
        "print(x)"
      ],
      "execution_count": null,
      "outputs": []
    },
    {
      "cell_type": "markdown",
      "metadata": {
        "id": "w-ci0H2gdUwE"
      },
      "source": [
        "update()"
      ]
    },
    {
      "cell_type": "code",
      "metadata": {
        "id": "1-gCnFJ4dVGZ"
      },
      "source": [
        "car = {\r\n",
        "  \"brand\": \"Ford\",\r\n",
        "  \"model\": \"Mustang\",\r\n",
        "  \"year\": 1964\r\n",
        "}\r\n",
        "\r\n",
        "car.update({\"color\": \"White\"})\r\n",
        "\r\n",
        "print(car)"
      ],
      "execution_count": null,
      "outputs": []
    }
  ]
}